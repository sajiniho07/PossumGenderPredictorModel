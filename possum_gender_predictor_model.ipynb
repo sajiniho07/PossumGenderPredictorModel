{
  "nbformat": 4,
  "nbformat_minor": 0,
  "metadata": {
    "colab": {
      "provenance": [],
      "authorship_tag": "ABX9TyNigFj6Z58zmiqykejyk2V9",
      "include_colab_link": true
    },
    "kernelspec": {
      "name": "python3",
      "display_name": "Python 3"
    },
    "language_info": {
      "name": "python"
    }
  },
  "cells": [
    {
      "cell_type": "markdown",
      "metadata": {
        "id": "view-in-github",
        "colab_type": "text"
      },
      "source": [
        "<a href=\"https://colab.research.google.com/github/sajiniho07/PossumGenderPredictorModel/blob/main/possum_gender_predictor_model.ipynb\" target=\"_parent\"><img src=\"https://colab.research.google.com/assets/colab-badge.svg\" alt=\"Open In Colab\"/></a>"
      ]
    },
    {
      "cell_type": "code",
      "execution_count": 1,
      "metadata": {
        "id": "5x4glzCY7NtO"
      },
      "outputs": [],
      "source": [
        "import pandas as pd\n",
        "import numpy as np"
      ]
    },
    {
      "cell_type": "code",
      "source": [
        "# step 1: read data"
      ],
      "metadata": {
        "id": "ayfCHks1x6JI"
      },
      "execution_count": null,
      "outputs": []
    },
    {
      "cell_type": "code",
      "source": [
        "df = pd.read_csv(\"/content/possum.csv\")"
      ],
      "metadata": {
        "id": "IoQ4zbmjQGxC"
      },
      "execution_count": 21,
      "outputs": []
    },
    {
      "cell_type": "code",
      "source": [
        "df.head()"
      ],
      "metadata": {
        "colab": {
          "base_uri": "https://localhost:8080/",
          "height": 206
        },
        "id": "20HSFg1bQy0Y",
        "outputId": "3540e36e-9f4a-4b70-8668-f246e7785f47"
      },
      "execution_count": 22,
      "outputs": [
        {
          "output_type": "execute_result",
          "data": {
            "text/plain": [
              "   case  site  Pop sex  age  hdlngth  skullw  totlngth  taill  footlgth  \\\n",
              "0     1     1  Vic   m  8.0     94.1    60.4      89.0   36.0      74.5   \n",
              "1     2     1  Vic   f  6.0     92.5    57.6      91.5   36.5      72.5   \n",
              "2     3     1  Vic   f  6.0     94.0    60.0      95.5   39.0      75.4   \n",
              "3     4     1  Vic   f  6.0     93.2    57.1      92.0   38.0      76.1   \n",
              "4     5     1  Vic   f  2.0     91.5    56.3      85.5   36.0      71.0   \n",
              "\n",
              "   earconch   eye  chest  belly  \n",
              "0      54.5  15.2   28.0   36.0  \n",
              "1      51.2  16.0   28.5   33.0  \n",
              "2      51.9  15.5   30.0   34.0  \n",
              "3      52.2  15.2   28.0   34.0  \n",
              "4      53.2  15.1   28.5   33.0  "
            ],
            "text/html": [
              "\n",
              "  <div id=\"df-32a17294-644e-4314-a5d4-7fde939556c8\">\n",
              "    <div class=\"colab-df-container\">\n",
              "      <div>\n",
              "<style scoped>\n",
              "    .dataframe tbody tr th:only-of-type {\n",
              "        vertical-align: middle;\n",
              "    }\n",
              "\n",
              "    .dataframe tbody tr th {\n",
              "        vertical-align: top;\n",
              "    }\n",
              "\n",
              "    .dataframe thead th {\n",
              "        text-align: right;\n",
              "    }\n",
              "</style>\n",
              "<table border=\"1\" class=\"dataframe\">\n",
              "  <thead>\n",
              "    <tr style=\"text-align: right;\">\n",
              "      <th></th>\n",
              "      <th>case</th>\n",
              "      <th>site</th>\n",
              "      <th>Pop</th>\n",
              "      <th>sex</th>\n",
              "      <th>age</th>\n",
              "      <th>hdlngth</th>\n",
              "      <th>skullw</th>\n",
              "      <th>totlngth</th>\n",
              "      <th>taill</th>\n",
              "      <th>footlgth</th>\n",
              "      <th>earconch</th>\n",
              "      <th>eye</th>\n",
              "      <th>chest</th>\n",
              "      <th>belly</th>\n",
              "    </tr>\n",
              "  </thead>\n",
              "  <tbody>\n",
              "    <tr>\n",
              "      <th>0</th>\n",
              "      <td>1</td>\n",
              "      <td>1</td>\n",
              "      <td>Vic</td>\n",
              "      <td>m</td>\n",
              "      <td>8.0</td>\n",
              "      <td>94.1</td>\n",
              "      <td>60.4</td>\n",
              "      <td>89.0</td>\n",
              "      <td>36.0</td>\n",
              "      <td>74.5</td>\n",
              "      <td>54.5</td>\n",
              "      <td>15.2</td>\n",
              "      <td>28.0</td>\n",
              "      <td>36.0</td>\n",
              "    </tr>\n",
              "    <tr>\n",
              "      <th>1</th>\n",
              "      <td>2</td>\n",
              "      <td>1</td>\n",
              "      <td>Vic</td>\n",
              "      <td>f</td>\n",
              "      <td>6.0</td>\n",
              "      <td>92.5</td>\n",
              "      <td>57.6</td>\n",
              "      <td>91.5</td>\n",
              "      <td>36.5</td>\n",
              "      <td>72.5</td>\n",
              "      <td>51.2</td>\n",
              "      <td>16.0</td>\n",
              "      <td>28.5</td>\n",
              "      <td>33.0</td>\n",
              "    </tr>\n",
              "    <tr>\n",
              "      <th>2</th>\n",
              "      <td>3</td>\n",
              "      <td>1</td>\n",
              "      <td>Vic</td>\n",
              "      <td>f</td>\n",
              "      <td>6.0</td>\n",
              "      <td>94.0</td>\n",
              "      <td>60.0</td>\n",
              "      <td>95.5</td>\n",
              "      <td>39.0</td>\n",
              "      <td>75.4</td>\n",
              "      <td>51.9</td>\n",
              "      <td>15.5</td>\n",
              "      <td>30.0</td>\n",
              "      <td>34.0</td>\n",
              "    </tr>\n",
              "    <tr>\n",
              "      <th>3</th>\n",
              "      <td>4</td>\n",
              "      <td>1</td>\n",
              "      <td>Vic</td>\n",
              "      <td>f</td>\n",
              "      <td>6.0</td>\n",
              "      <td>93.2</td>\n",
              "      <td>57.1</td>\n",
              "      <td>92.0</td>\n",
              "      <td>38.0</td>\n",
              "      <td>76.1</td>\n",
              "      <td>52.2</td>\n",
              "      <td>15.2</td>\n",
              "      <td>28.0</td>\n",
              "      <td>34.0</td>\n",
              "    </tr>\n",
              "    <tr>\n",
              "      <th>4</th>\n",
              "      <td>5</td>\n",
              "      <td>1</td>\n",
              "      <td>Vic</td>\n",
              "      <td>f</td>\n",
              "      <td>2.0</td>\n",
              "      <td>91.5</td>\n",
              "      <td>56.3</td>\n",
              "      <td>85.5</td>\n",
              "      <td>36.0</td>\n",
              "      <td>71.0</td>\n",
              "      <td>53.2</td>\n",
              "      <td>15.1</td>\n",
              "      <td>28.5</td>\n",
              "      <td>33.0</td>\n",
              "    </tr>\n",
              "  </tbody>\n",
              "</table>\n",
              "</div>\n",
              "      <button class=\"colab-df-convert\" onclick=\"convertToInteractive('df-32a17294-644e-4314-a5d4-7fde939556c8')\"\n",
              "              title=\"Convert this dataframe to an interactive table.\"\n",
              "              style=\"display:none;\">\n",
              "        \n",
              "  <svg xmlns=\"http://www.w3.org/2000/svg\" height=\"24px\"viewBox=\"0 0 24 24\"\n",
              "       width=\"24px\">\n",
              "    <path d=\"M0 0h24v24H0V0z\" fill=\"none\"/>\n",
              "    <path d=\"M18.56 5.44l.94 2.06.94-2.06 2.06-.94-2.06-.94-.94-2.06-.94 2.06-2.06.94zm-11 1L8.5 8.5l.94-2.06 2.06-.94-2.06-.94L8.5 2.5l-.94 2.06-2.06.94zm10 10l.94 2.06.94-2.06 2.06-.94-2.06-.94-.94-2.06-.94 2.06-2.06.94z\"/><path d=\"M17.41 7.96l-1.37-1.37c-.4-.4-.92-.59-1.43-.59-.52 0-1.04.2-1.43.59L10.3 9.45l-7.72 7.72c-.78.78-.78 2.05 0 2.83L4 21.41c.39.39.9.59 1.41.59.51 0 1.02-.2 1.41-.59l7.78-7.78 2.81-2.81c.8-.78.8-2.07 0-2.86zM5.41 20L4 18.59l7.72-7.72 1.47 1.35L5.41 20z\"/>\n",
              "  </svg>\n",
              "      </button>\n",
              "      \n",
              "  <style>\n",
              "    .colab-df-container {\n",
              "      display:flex;\n",
              "      flex-wrap:wrap;\n",
              "      gap: 12px;\n",
              "    }\n",
              "\n",
              "    .colab-df-convert {\n",
              "      background-color: #E8F0FE;\n",
              "      border: none;\n",
              "      border-radius: 50%;\n",
              "      cursor: pointer;\n",
              "      display: none;\n",
              "      fill: #1967D2;\n",
              "      height: 32px;\n",
              "      padding: 0 0 0 0;\n",
              "      width: 32px;\n",
              "    }\n",
              "\n",
              "    .colab-df-convert:hover {\n",
              "      background-color: #E2EBFA;\n",
              "      box-shadow: 0px 1px 2px rgba(60, 64, 67, 0.3), 0px 1px 3px 1px rgba(60, 64, 67, 0.15);\n",
              "      fill: #174EA6;\n",
              "    }\n",
              "\n",
              "    [theme=dark] .colab-df-convert {\n",
              "      background-color: #3B4455;\n",
              "      fill: #D2E3FC;\n",
              "    }\n",
              "\n",
              "    [theme=dark] .colab-df-convert:hover {\n",
              "      background-color: #434B5C;\n",
              "      box-shadow: 0px 1px 3px 1px rgba(0, 0, 0, 0.15);\n",
              "      filter: drop-shadow(0px 1px 2px rgba(0, 0, 0, 0.3));\n",
              "      fill: #FFFFFF;\n",
              "    }\n",
              "  </style>\n",
              "\n",
              "      <script>\n",
              "        const buttonEl =\n",
              "          document.querySelector('#df-32a17294-644e-4314-a5d4-7fde939556c8 button.colab-df-convert');\n",
              "        buttonEl.style.display =\n",
              "          google.colab.kernel.accessAllowed ? 'block' : 'none';\n",
              "\n",
              "        async function convertToInteractive(key) {\n",
              "          const element = document.querySelector('#df-32a17294-644e-4314-a5d4-7fde939556c8');\n",
              "          const dataTable =\n",
              "            await google.colab.kernel.invokeFunction('convertToInteractive',\n",
              "                                                     [key], {});\n",
              "          if (!dataTable) return;\n",
              "\n",
              "          const docLinkHtml = 'Like what you see? Visit the ' +\n",
              "            '<a target=\"_blank\" href=https://colab.research.google.com/notebooks/data_table.ipynb>data table notebook</a>'\n",
              "            + ' to learn more about interactive tables.';\n",
              "          element.innerHTML = '';\n",
              "          dataTable['output_type'] = 'display_data';\n",
              "          await google.colab.output.renderOutput(dataTable, element);\n",
              "          const docLink = document.createElement('div');\n",
              "          docLink.innerHTML = docLinkHtml;\n",
              "          element.appendChild(docLink);\n",
              "        }\n",
              "      </script>\n",
              "    </div>\n",
              "  </div>\n",
              "  "
            ]
          },
          "metadata": {},
          "execution_count": 22
        }
      ]
    },
    {
      "cell_type": "code",
      "source": [
        "df = df.drop(labels=[\"case\", \"site\", \"Pop\"], axis=1)"
      ],
      "metadata": {
        "id": "9bmW2A1dtG13"
      },
      "execution_count": 23,
      "outputs": []
    },
    {
      "cell_type": "code",
      "source": [
        "# step 2: encode charachters to number"
      ],
      "metadata": {
        "id": "bo1dnri7yLsh"
      },
      "execution_count": 7,
      "outputs": []
    },
    {
      "cell_type": "code",
      "source": [
        "from sklearn.preprocessing import LabelEncoder\n",
        "arr = df.values\n",
        "encoded = arr.copy()\n",
        "encoder = LabelEncoder()\n",
        "encoded[:, 0] = encoder.fit_transform(arr[:, 0])\n",
        "cols = ['sex', 'age',\t'hdlngth',\t'skullw',\t'totlngth',\t'taill',\t'footlgth',\t'earconch',\t'eye',\t'chest',\t'belly']\n",
        "df_encoded = pd.DataFrame(encoded.astype(float), columns=cols)\n",
        "df_encoded.shape"
      ],
      "metadata": {
        "id": "be0wsjFsR0ks",
        "colab": {
          "base_uri": "https://localhost:8080/"
        },
        "outputId": "9ef91f28-0e7e-4973-9251-950aa8400ab2"
      },
      "execution_count": 27,
      "outputs": [
        {
          "output_type": "execute_result",
          "data": {
            "text/plain": [
              "(104, 11)"
            ]
          },
          "metadata": {},
          "execution_count": 27
        }
      ]
    },
    {
      "cell_type": "code",
      "source": [
        "# step 3: fill nans with mean"
      ],
      "metadata": {
        "id": "TqYDQNbXyWgY"
      },
      "execution_count": null,
      "outputs": []
    },
    {
      "cell_type": "code",
      "source": [
        "df_nans_filled = df_encoded.fillna(df_encoded.mean())"
      ],
      "metadata": {
        "id": "fDulTu79pu7F"
      },
      "execution_count": 29,
      "outputs": []
    },
    {
      "cell_type": "code",
      "source": [
        "# step 4: equalize datas based on output data"
      ],
      "metadata": {
        "id": "_irlX6MPx7PE"
      },
      "execution_count": 4,
      "outputs": []
    },
    {
      "cell_type": "code",
      "source": [
        "equal0 = df_nans_filled[\"sex\"] == 0.0\n",
        "df_equal0 = df_nans_filled[equal0]\n",
        "print(df_equal0.shape)\n",
        "equal1 = df_nans_filled[\"sex\"] == 1.0\n",
        "df_equal1 = df_nans_filled[equal1]\n",
        "print(df_equal1.shape)"
      ],
      "metadata": {
        "colab": {
          "base_uri": "https://localhost:8080/"
        },
        "id": "q7qx8_jIoYTt",
        "outputId": "33112a7a-6cf5-4cdb-e3a0-6a9b33987d64"
      },
      "execution_count": 30,
      "outputs": [
        {
          "output_type": "stream",
          "name": "stdout",
          "text": [
            "(43, 11)\n",
            "(61, 11)\n"
          ]
        }
      ]
    },
    {
      "cell_type": "code",
      "source": [
        "df_1_equal1 = df_equal1.sample(df_equal0.shape[0])\n",
        "df_1_equal1.shape"
      ],
      "metadata": {
        "colab": {
          "base_uri": "https://localhost:8080/"
        },
        "id": "VVL4TY_kuvpy",
        "outputId": "156313ae-59da-4e0e-9073-1d88f36f4e7c"
      },
      "execution_count": 32,
      "outputs": [
        {
          "output_type": "execute_result",
          "data": {
            "text/plain": [
              "(43, 11)"
            ]
          },
          "metadata": {},
          "execution_count": 32
        }
      ]
    },
    {
      "cell_type": "code",
      "source": [
        "df_balanced = pd.concat([df_equal0, df_1_equal1])\n",
        "df_balanced.shape"
      ],
      "metadata": {
        "colab": {
          "base_uri": "https://localhost:8080/"
        },
        "id": "WnPDhl8mySmS",
        "outputId": "938053ab-6fd2-4c39-a998-8c17831870c0"
      },
      "execution_count": 33,
      "outputs": [
        {
          "output_type": "execute_result",
          "data": {
            "text/plain": [
              "(86, 11)"
            ]
          },
          "metadata": {},
          "execution_count": 33
        }
      ]
    },
    {
      "cell_type": "code",
      "source": [
        "# step 5: seprate features"
      ],
      "metadata": {
        "id": "850Nd4U7zSHy"
      },
      "execution_count": null,
      "outputs": []
    },
    {
      "cell_type": "code",
      "source": [
        "df_y = df_balanced[[\"sex\"]]\n",
        "df_x = df_balanced.drop(labels=[\"sex\"], axis=1)\n",
        "print(df_x.shape, df_y.shape)"
      ],
      "metadata": {
        "id": "ZK3agSPyQ3pk",
        "colab": {
          "base_uri": "https://localhost:8080/"
        },
        "outputId": "53e6d016-7292-423f-9958-976b5e17f7ee"
      },
      "execution_count": 34,
      "outputs": [
        {
          "output_type": "stream",
          "name": "stdout",
          "text": [
            "(86, 10) (86, 1)\n"
          ]
        }
      ]
    },
    {
      "cell_type": "code",
      "source": [
        "# step 6: normalize X datas"
      ],
      "metadata": {
        "id": "9d7zQ_AHytPJ"
      },
      "execution_count": null,
      "outputs": []
    },
    {
      "cell_type": "code",
      "source": [
        "from sklearn.preprocessing import StandardScaler\n",
        "\n",
        "scaler = StandardScaler()\n",
        "x_nrm =  scaler.fit_transform(df_x)"
      ],
      "metadata": {
        "id": "yY3R2VvZy6Ow"
      },
      "execution_count": 35,
      "outputs": []
    },
    {
      "cell_type": "code",
      "source": [
        "# step 7: split data to train & test"
      ],
      "metadata": {
        "id": "cEnDWFTr4rMx"
      },
      "execution_count": null,
      "outputs": []
    },
    {
      "cell_type": "code",
      "source": [
        "from sklearn.model_selection  import train_test_split\n",
        "\n",
        "x_train, x_test, y_train, y_test = train_test_split(x_nrm, df_y.values.reshape((-1, )), train_size=0.8)"
      ],
      "metadata": {
        "id": "jJLJe3_i4zZL"
      },
      "execution_count": 36,
      "outputs": []
    },
    {
      "cell_type": "code",
      "source": [
        "# step 8: initialize model callback"
      ],
      "metadata": {
        "id": "zZZzq2_0-rcZ"
      },
      "execution_count": null,
      "outputs": []
    },
    {
      "cell_type": "code",
      "source": [
        "from keras.callbacks import EarlyStopping\n",
        "\n",
        "callBack  = EarlyStopping(patience=5, restore_best_weights=True)"
      ],
      "metadata": {
        "id": "dY15MXhz_Rho"
      },
      "execution_count": 37,
      "outputs": []
    },
    {
      "cell_type": "code",
      "source": [
        "# step 9: define Dense model"
      ],
      "metadata": {
        "id": "joQVEbAp6qXV"
      },
      "execution_count": null,
      "outputs": []
    },
    {
      "cell_type": "code",
      "source": [
        "from keras.models import Sequential\n",
        "from keras.layers import Dense\n",
        "\n",
        "model = Sequential()\n",
        "model.add(Dense(64, activation='relu', input_shape=x_train.shape[1:]))\n",
        "model.add(Dense(32, activation='relu'))\n",
        "model.add(Dense(1, activation='sigmoid'))\n",
        "\n",
        "model.compile(optimizer='adam', loss='binary_crossentropy', metrics='accuracy')\n",
        "print(model.summary())"
      ],
      "metadata": {
        "colab": {
          "base_uri": "https://localhost:8080/"
        },
        "id": "DSzjeQ9j66UN",
        "outputId": "2e0627b8-88c1-49f4-ecee-8c8c5989367b"
      },
      "execution_count": 57,
      "outputs": [
        {
          "output_type": "stream",
          "name": "stdout",
          "text": [
            "Model: \"sequential_4\"\n",
            "_________________________________________________________________\n",
            " Layer (type)                Output Shape              Param #   \n",
            "=================================================================\n",
            " dense_16 (Dense)            (None, 64)                704       \n",
            "                                                                 \n",
            " dense_17 (Dense)            (None, 32)                2080      \n",
            "                                                                 \n",
            " dense_18 (Dense)            (None, 1)                 33        \n",
            "                                                                 \n",
            "=================================================================\n",
            "Total params: 2,817\n",
            "Trainable params: 2,817\n",
            "Non-trainable params: 0\n",
            "_________________________________________________________________\n",
            "None\n"
          ]
        }
      ]
    },
    {
      "cell_type": "code",
      "source": [
        "# step 10: fit model"
      ],
      "metadata": {
        "id": "pciw5P2_8-bF"
      },
      "execution_count": 39,
      "outputs": []
    },
    {
      "cell_type": "code",
      "source": [
        "results = model.fit(x_train, y_train, epochs=40, validation_data=(x_test, y_test), callbacks=callBack)"
      ],
      "metadata": {
        "colab": {
          "base_uri": "https://localhost:8080/"
        },
        "id": "cxnx26G4Axkm",
        "outputId": "f1ae3b08-0ce3-403f-9687-103a835769d3"
      },
      "execution_count": 58,
      "outputs": [
        {
          "output_type": "stream",
          "name": "stdout",
          "text": [
            "Epoch 1/40\n",
            "3/3 [==============================] - 1s 65ms/step - loss: 0.7081 - accuracy: 0.4412 - val_loss: 0.7169 - val_accuracy: 0.4444\n",
            "Epoch 2/40\n",
            "3/3 [==============================] - 0s 14ms/step - loss: 0.6909 - accuracy: 0.4706 - val_loss: 0.7044 - val_accuracy: 0.3889\n",
            "Epoch 3/40\n",
            "3/3 [==============================] - 0s 14ms/step - loss: 0.6796 - accuracy: 0.5294 - val_loss: 0.6943 - val_accuracy: 0.3889\n",
            "Epoch 4/40\n",
            "3/3 [==============================] - 0s 23ms/step - loss: 0.6692 - accuracy: 0.5882 - val_loss: 0.6875 - val_accuracy: 0.4444\n",
            "Epoch 5/40\n",
            "3/3 [==============================] - 0s 17ms/step - loss: 0.6608 - accuracy: 0.6176 - val_loss: 0.6839 - val_accuracy: 0.5000\n",
            "Epoch 6/40\n",
            "3/3 [==============================] - 0s 13ms/step - loss: 0.6536 - accuracy: 0.6765 - val_loss: 0.6807 - val_accuracy: 0.4444\n",
            "Epoch 7/40\n",
            "3/3 [==============================] - 0s 15ms/step - loss: 0.6460 - accuracy: 0.7353 - val_loss: 0.6786 - val_accuracy: 0.4444\n",
            "Epoch 8/40\n",
            "3/3 [==============================] - 0s 15ms/step - loss: 0.6398 - accuracy: 0.7500 - val_loss: 0.6782 - val_accuracy: 0.5000\n",
            "Epoch 9/40\n",
            "3/3 [==============================] - 0s 14ms/step - loss: 0.6333 - accuracy: 0.6912 - val_loss: 0.6774 - val_accuracy: 0.5556\n",
            "Epoch 10/40\n",
            "3/3 [==============================] - 0s 14ms/step - loss: 0.6272 - accuracy: 0.7059 - val_loss: 0.6753 - val_accuracy: 0.6111\n",
            "Epoch 11/40\n",
            "3/3 [==============================] - 0s 16ms/step - loss: 0.6212 - accuracy: 0.7206 - val_loss: 0.6714 - val_accuracy: 0.6111\n",
            "Epoch 12/40\n",
            "3/3 [==============================] - 0s 15ms/step - loss: 0.6155 - accuracy: 0.7794 - val_loss: 0.6662 - val_accuracy: 0.5556\n",
            "Epoch 13/40\n",
            "3/3 [==============================] - 0s 15ms/step - loss: 0.6101 - accuracy: 0.8088 - val_loss: 0.6610 - val_accuracy: 0.5556\n",
            "Epoch 14/40\n",
            "3/3 [==============================] - 0s 15ms/step - loss: 0.6053 - accuracy: 0.7941 - val_loss: 0.6566 - val_accuracy: 0.6111\n",
            "Epoch 15/40\n",
            "3/3 [==============================] - 0s 13ms/step - loss: 0.6005 - accuracy: 0.7794 - val_loss: 0.6526 - val_accuracy: 0.6111\n",
            "Epoch 16/40\n",
            "3/3 [==============================] - 0s 14ms/step - loss: 0.5959 - accuracy: 0.7647 - val_loss: 0.6492 - val_accuracy: 0.6111\n",
            "Epoch 17/40\n",
            "3/3 [==============================] - 0s 14ms/step - loss: 0.5910 - accuracy: 0.7794 - val_loss: 0.6484 - val_accuracy: 0.6111\n",
            "Epoch 18/40\n",
            "3/3 [==============================] - 0s 12ms/step - loss: 0.5857 - accuracy: 0.7794 - val_loss: 0.6495 - val_accuracy: 0.6111\n",
            "Epoch 19/40\n",
            "3/3 [==============================] - 0s 12ms/step - loss: 0.5824 - accuracy: 0.7794 - val_loss: 0.6509 - val_accuracy: 0.5556\n",
            "Epoch 20/40\n",
            "3/3 [==============================] - 0s 12ms/step - loss: 0.5788 - accuracy: 0.7794 - val_loss: 0.6516 - val_accuracy: 0.5556\n",
            "Epoch 21/40\n",
            "3/3 [==============================] - 0s 12ms/step - loss: 0.5740 - accuracy: 0.7941 - val_loss: 0.6518 - val_accuracy: 0.5556\n",
            "Epoch 22/40\n",
            "3/3 [==============================] - 0s 12ms/step - loss: 0.5692 - accuracy: 0.7941 - val_loss: 0.6515 - val_accuracy: 0.5556\n"
          ]
        }
      ]
    },
    {
      "cell_type": "code",
      "source": [
        "# step 11: prediction"
      ],
      "metadata": {
        "id": "u8UAXdujPOmG"
      },
      "execution_count": null,
      "outputs": []
    },
    {
      "cell_type": "code",
      "source": [
        "yhat_test = model.predict(x_test).round()"
      ],
      "metadata": {
        "colab": {
          "base_uri": "https://localhost:8080/"
        },
        "id": "RHxA6UGFPUM0",
        "outputId": "a8f071ff-f86c-4977-c9d7-251f1d5d299d"
      },
      "execution_count": 59,
      "outputs": [
        {
          "output_type": "stream",
          "name": "stderr",
          "text": [
            "WARNING:tensorflow:5 out of the last 5 calls to <function Model.make_predict_function.<locals>.predict_function at 0x7f00ed4c0430> triggered tf.function retracing. Tracing is expensive and the excessive number of tracings could be due to (1) creating @tf.function repeatedly in a loop, (2) passing tensors with different shapes, (3) passing Python objects instead of tensors. For (1), please define your @tf.function outside of the loop. For (2), @tf.function has reduce_retracing=True option that can avoid unnecessary retracing. For (3), please refer to https://www.tensorflow.org/guide/function#controlling_retracing and https://www.tensorflow.org/api_docs/python/tf/function for  more details.\n"
          ]
        },
        {
          "output_type": "stream",
          "name": "stdout",
          "text": [
            "1/1 [==============================] - 0s 43ms/step\n"
          ]
        }
      ]
    },
    {
      "cell_type": "code",
      "source": [
        "# step 12: metrics"
      ],
      "metadata": {
        "id": "O6V06iLLP_Sx"
      },
      "execution_count": null,
      "outputs": []
    },
    {
      "cell_type": "code",
      "source": [
        "from sklearn.metrics import classification_report as cr\n",
        "from sklearn.metrics import confusion_matrix as cm\n",
        "\n",
        "yhat_test_reshaped = np.reshape(yhat_test, y_test.shape)\n",
        "print(cr(y_test, yhat_test_reshaped))\n",
        "print(cm(y_test, yhat_test_reshaped))"
      ],
      "metadata": {
        "colab": {
          "base_uri": "https://localhost:8080/"
        },
        "id": "v8XCkew0QLnl",
        "outputId": "86cf7820-89af-4188-b827-a56da64ce776"
      },
      "execution_count": 60,
      "outputs": [
        {
          "output_type": "stream",
          "name": "stdout",
          "text": [
            "              precision    recall  f1-score   support\n",
            "\n",
            "         0.0       0.64      0.82      0.72        11\n",
            "         1.0       0.50      0.29      0.36         7\n",
            "\n",
            "    accuracy                           0.61        18\n",
            "   macro avg       0.57      0.55      0.54        18\n",
            "weighted avg       0.59      0.61      0.58        18\n",
            "\n",
            "[[9 2]\n",
            " [5 2]]\n"
          ]
        }
      ]
    },
    {
      "cell_type": "code",
      "source": [
        "import matplotlib.pyplot as plt\n",
        "\n",
        "plt.scatter(y_test, yhat_test_reshaped)"
      ],
      "metadata": {
        "colab": {
          "base_uri": "https://localhost:8080/",
          "height": 447
        },
        "id": "5rd_Zh62PnPt",
        "outputId": "8dcdb4e7-c214-4d87-8585-f9b271bbd01c"
      },
      "execution_count": 43,
      "outputs": [
        {
          "output_type": "execute_result",
          "data": {
            "text/plain": [
              "<matplotlib.collections.PathCollection at 0x7f00fa5b41f0>"
            ]
          },
          "metadata": {},
          "execution_count": 43
        },
        {
          "output_type": "display_data",
          "data": {
            "text/plain": [
              "<Figure size 640x480 with 1 Axes>"
            ],
            "image/png": "[encoded data removed]"
          },
          "metadata": {}
        }
      ]
    },
    {
      "cell_type": "code",
      "source": [
        "plt.plot(results.history['loss'], label='train')\n",
        "plt.plot(results.history['val_loss'], label='test')\n",
        "plt.legend()"
      ],
      "metadata": {
        "colab": {
          "base_uri": "https://localhost:8080/",
          "height": 447
        },
        "id": "5iKo1nABToHN",
        "outputId": "ddf138dc-cce1-406d-c425-cb825f5a4ce6"
      },
      "execution_count": 61,
      "outputs": [
        {
          "output_type": "execute_result",
          "data": {
            "text/plain": [
              "<matplotlib.legend.Legend at 0x7f00ed3bfa30>"
            ]
          },
          "metadata": {},
          "execution_count": 61
        },
        {
          "output_type": "display_data",
          "data": {
            "text/plain": [
              "<Figure size 640x480 with 1 Axes>"
            ],
            "image/png": "[encoded data removed]"
          },
          "metadata": {}
        }
      ]
    },
    {
      "cell_type": "code",
      "source": [
        "model_2 = Sequential()\n",
        "model_2.add(Dense(128, activation='relu', input_shape=x_train.shape[1:]))\n",
        "model_2.add(Dense(64, activation='relu'))\n",
        "model_2.add(Dense(32, activation='relu'))\n",
        "model_2.add(Dense(1, activation='sigmoid'))\n",
        "\n",
        "model_2.compile(optimizer='adam', loss='binary_crossentropy', metrics='accuracy')\n",
        "\n",
        "results_2 = model_2.fit(x_train, y_train, epochs=100, validation_data=(x_test, y_test), callbacks=callBack)"
      ],
      "metadata": {
        "colab": {
          "base_uri": "https://localhost:8080/"
        },
        "id": "g9CBnhHOVjFk",
        "outputId": "d9510fda-6075-4f0c-d131-aa5b65837240"
      },
      "execution_count": 62,
      "outputs": [
        {
          "output_type": "stream",
          "name": "stdout",
          "text": [
            "Epoch 1/100\n",
            "3/3 [==============================] - 1s 68ms/step - loss: 0.7216 - accuracy: 0.5294 - val_loss: 0.7238 - val_accuracy: 0.3889\n",
            "Epoch 2/100\n",
            "3/3 [==============================] - 0s 15ms/step - loss: 0.6870 - accuracy: 0.5441 - val_loss: 0.7073 - val_accuracy: 0.4444\n",
            "Epoch 3/100\n",
            "3/3 [==============================] - 0s 13ms/step - loss: 0.6681 - accuracy: 0.5441 - val_loss: 0.7006 - val_accuracy: 0.5556\n",
            "Epoch 4/100\n",
            "3/3 [==============================] - 0s 14ms/step - loss: 0.6570 - accuracy: 0.6324 - val_loss: 0.6977 - val_accuracy: 0.5000\n",
            "Epoch 5/100\n",
            "3/3 [==============================] - 0s 13ms/step - loss: 0.6468 - accuracy: 0.7059 - val_loss: 0.6968 - val_accuracy: 0.4444\n",
            "Epoch 6/100\n",
            "3/3 [==============================] - 0s 13ms/step - loss: 0.6391 - accuracy: 0.7353 - val_loss: 0.6985 - val_accuracy: 0.4444\n",
            "Epoch 7/100\n",
            "3/3 [==============================] - 0s 14ms/step - loss: 0.6323 - accuracy: 0.7500 - val_loss: 0.6995 - val_accuracy: 0.5556\n",
            "Epoch 8/100\n",
            "3/3 [==============================] - 0s 14ms/step - loss: 0.6254 - accuracy: 0.7647 - val_loss: 0.6970 - val_accuracy: 0.5556\n",
            "Epoch 9/100\n",
            "3/3 [==============================] - 0s 14ms/step - loss: 0.6183 - accuracy: 0.7794 - val_loss: 0.6925 - val_accuracy: 0.5556\n",
            "Epoch 10/100\n",
            "3/3 [==============================] - 0s 15ms/step - loss: 0.6082 - accuracy: 0.7941 - val_loss: 0.6891 - val_accuracy: 0.5556\n",
            "Epoch 11/100\n",
            "3/3 [==============================] - 0s 13ms/step - loss: 0.5988 - accuracy: 0.8088 - val_loss: 0.6890 - val_accuracy: 0.6667\n",
            "Epoch 12/100\n",
            "3/3 [==============================] - 0s 14ms/step - loss: 0.5894 - accuracy: 0.8088 - val_loss: 0.6937 - val_accuracy: 0.5000\n",
            "Epoch 13/100\n",
            "3/3 [==============================] - 0s 12ms/step - loss: 0.5814 - accuracy: 0.7941 - val_loss: 0.6982 - val_accuracy: 0.5000\n",
            "Epoch 14/100\n",
            "3/3 [==============================] - 0s 12ms/step - loss: 0.5726 - accuracy: 0.8088 - val_loss: 0.7056 - val_accuracy: 0.5000\n",
            "Epoch 15/100\n",
            "3/3 [==============================] - 0s 14ms/step - loss: 0.5659 - accuracy: 0.8088 - val_loss: 0.7097 - val_accuracy: 0.5000\n",
            "Epoch 16/100\n",
            "3/3 [==============================] - 0s 13ms/step - loss: 0.5553 - accuracy: 0.7941 - val_loss: 0.7086 - val_accuracy: 0.5556\n"
          ]
        }
      ]
    },
    {
      "cell_type": "code",
      "source": [
        "yhat_test_2 = model_2.predict(x_test).round()"
      ],
      "metadata": {
        "colab": {
          "base_uri": "https://localhost:8080/"
        },
        "id": "r4QWzeHbXYxn",
        "outputId": "faf883da-0874-4a29-a939-328a750840bc"
      },
      "execution_count": 63,
      "outputs": [
        {
          "output_type": "stream",
          "name": "stderr",
          "text": [
            "WARNING:tensorflow:6 out of the last 6 calls to <function Model.make_predict_function.<locals>.predict_function at 0x7f00fa5108b0> triggered tf.function retracing. Tracing is expensive and the excessive number of tracings could be due to (1) creating @tf.function repeatedly in a loop, (2) passing tensors with different shapes, (3) passing Python objects instead of tensors. For (1), please define your @tf.function outside of the loop. For (2), @tf.function has reduce_retracing=True option that can avoid unnecessary retracing. For (3), please refer to https://www.tensorflow.org/guide/function#controlling_retracing and https://www.tensorflow.org/api_docs/python/tf/function for  more details.\n"
          ]
        },
        {
          "output_type": "stream",
          "name": "stdout",
          "text": [
            "1/1 [==============================] - 0s 62ms/step\n"
          ]
        }
      ]
    },
    {
      "cell_type": "code",
      "source": [
        "yhat_test_reshaped_2 = np.reshape(yhat_test_2, y_test.shape)\n",
        "print(cr(y_test, yhat_test_reshaped_2))\n",
        "print(cm(y_test, yhat_test_reshaped_2))"
      ],
      "metadata": {
        "colab": {
          "base_uri": "https://localhost:8080/"
        },
        "id": "qMzl-qwUXcs2",
        "outputId": "149006fb-cb50-4b08-f3df-2af64bda339e"
      },
      "execution_count": 64,
      "outputs": [
        {
          "output_type": "stream",
          "name": "stdout",
          "text": [
            "              precision    recall  f1-score   support\n",
            "\n",
            "         0.0       0.86      0.55      0.67        11\n",
            "         1.0       0.55      0.86      0.67         7\n",
            "\n",
            "    accuracy                           0.67        18\n",
            "   macro avg       0.70      0.70      0.67        18\n",
            "weighted avg       0.74      0.67      0.67        18\n",
            "\n",
            "[[6 5]\n",
            " [1 6]]\n"
          ]
        }
      ]
    },
    {
      "cell_type": "code",
      "source": [
        "plt.scatter(y_test, yhat_test_reshaped_2)"
      ],
      "metadata": {
        "colab": {
          "base_uri": "https://localhost:8080/",
          "height": 447
        },
        "id": "AJKzAdjnX73N",
        "outputId": "76d268ef-c029-4ebb-edc2-569484c23824"
      },
      "execution_count": 48,
      "outputs": [
        {
          "output_type": "execute_result",
          "data": {
            "text/plain": [
              "<matplotlib.collections.PathCollection at 0x7f00fb5f7df0>"
            ]
          },
          "metadata": {},
          "execution_count": 48
        },
        {
          "output_type": "display_data",
          "data": {
            "text/plain": [
              "<Figure size 640x480 with 1 Axes>"
            ],
            "image/png": "[encoded data removed]"
          },
          "metadata": {}
        }
      ]
    },
    {
      "cell_type": "code",
      "source": [
        "plt.plot(results_2.history['loss'], label='train')\n",
        "plt.plot(results_2.history['val_loss'], label='test')\n",
        "plt.legend()"
      ],
      "metadata": {
        "colab": {
          "base_uri": "https://localhost:8080/",
          "height": 447
        },
        "id": "zlKce59YYFt0",
        "outputId": "7301e385-3050-466f-aeef-8dd2a34be2eb"
      },
      "execution_count": 65,
      "outputs": [
        {
          "output_type": "execute_result",
          "data": {
            "text/plain": [
              "<matplotlib.legend.Legend at 0x7f00fa588d30>"
            ]
          },
          "metadata": {},
          "execution_count": 65
        },
        {
          "output_type": "display_data",
          "data": {
            "text/plain": [
              "<Figure size 640x480 with 1 Axes>"
            ],
            "image/png": "[encoded data removed]"
          },
          "metadata": {}
        }
      ]
    },
    {
      "cell_type": "code",
      "source": [
        "from keras.optimizers import RMSprop\n",
        "from keras.layers import LeakyReLU\n",
        "\n",
        "model_3 = Sequential()\n",
        "model_3.add(Dense(128, activation='relu', input_shape=x_train.shape[1:]))\n",
        "model_3.add(Dense(64))\n",
        "model_3.add(LeakyReLU(alpha=0.1))\n",
        "model_3.add(Dense(32))\n",
        "model_3.add(LeakyReLU(alpha=0.1))\n",
        "model_3.add(Dense(1, activation='sigmoid'))\n",
        "\n",
        "model_3.compile(optimizer=RMSprop(lr=0.001), loss='binary_crossentropy', metrics='accuracy')\n",
        "\n",
        "results_3 = model_3.fit(x_train, y_train, epochs=100, batch_size=16, validation_data=(x_test, y_test), callbacks=callBack)"
      ],
      "metadata": {
        "colab": {
          "base_uri": "https://localhost:8080/"
        },
        "id": "elMD_LM_YQKf",
        "outputId": "a51ee600-d2e2-46bb-aaea-9543165441b3"
      },
      "execution_count": 66,
      "outputs": [
        {
          "output_type": "stream",
          "name": "stdout",
          "text": [
            "Epoch 1/100\n"
          ]
        },
        {
          "output_type": "stream",
          "name": "stderr",
          "text": [
            "/usr/local/lib/python3.10/dist-packages/keras/optimizers/legacy/rmsprop.py:143: UserWarning: The `lr` argument is deprecated, use `learning_rate` instead.\n",
            "  super().__init__(name, **kwargs)\n"
          ]
        },
        {
          "output_type": "stream",
          "name": "stdout",
          "text": [
            "5/5 [==============================] - 1s 36ms/step - loss: 0.7003 - accuracy: 0.4853 - val_loss: 0.6623 - val_accuracy: 0.6667\n",
            "Epoch 2/100\n",
            "5/5 [==============================] - 0s 7ms/step - loss: 0.6536 - accuracy: 0.6765 - val_loss: 0.6666 - val_accuracy: 0.5556\n",
            "Epoch 3/100\n",
            "5/5 [==============================] - 0s 7ms/step - loss: 0.6234 - accuracy: 0.7500 - val_loss: 0.6621 - val_accuracy: 0.6667\n",
            "Epoch 4/100\n",
            "5/5 [==============================] - 0s 7ms/step - loss: 0.6072 - accuracy: 0.7206 - val_loss: 0.6622 - val_accuracy: 0.7222\n",
            "Epoch 5/100\n",
            "5/5 [==============================] - 0s 8ms/step - loss: 0.5816 - accuracy: 0.8088 - val_loss: 0.6447 - val_accuracy: 0.6667\n",
            "Epoch 6/100\n",
            "5/5 [==============================] - 0s 7ms/step - loss: 0.5651 - accuracy: 0.7794 - val_loss: 0.6349 - val_accuracy: 0.6667\n",
            "Epoch 7/100\n",
            "5/5 [==============================] - 0s 7ms/step - loss: 0.5395 - accuracy: 0.8088 - val_loss: 0.6272 - val_accuracy: 0.6667\n",
            "Epoch 8/100\n",
            "5/5 [==============================] - 0s 12ms/step - loss: 0.5215 - accuracy: 0.7941 - val_loss: 0.6252 - val_accuracy: 0.6667\n",
            "Epoch 9/100\n",
            "5/5 [==============================] - 0s 7ms/step - loss: 0.5022 - accuracy: 0.7941 - val_loss: 0.6219 - val_accuracy: 0.6667\n",
            "Epoch 10/100\n",
            "5/5 [==============================] - 0s 7ms/step - loss: 0.4857 - accuracy: 0.8529 - val_loss: 0.6234 - val_accuracy: 0.6667\n",
            "Epoch 11/100\n",
            "5/5 [==============================] - 0s 8ms/step - loss: 0.4680 - accuracy: 0.8235 - val_loss: 0.6224 - val_accuracy: 0.6667\n",
            "Epoch 12/100\n",
            "5/5 [==============================] - 0s 11ms/step - loss: 0.4513 - accuracy: 0.8088 - val_loss: 0.6231 - val_accuracy: 0.7222\n",
            "Epoch 13/100\n",
            "5/5 [==============================] - 0s 12ms/step - loss: 0.4365 - accuracy: 0.8529 - val_loss: 0.6087 - val_accuracy: 0.5556\n",
            "Epoch 14/100\n",
            "5/5 [==============================] - 0s 7ms/step - loss: 0.4169 - accuracy: 0.8676 - val_loss: 0.6103 - val_accuracy: 0.6111\n",
            "Epoch 15/100\n",
            "5/5 [==============================] - 0s 12ms/step - loss: 0.4030 - accuracy: 0.8529 - val_loss: 0.6021 - val_accuracy: 0.6667\n",
            "Epoch 16/100\n",
            "5/5 [==============================] - 0s 8ms/step - loss: 0.3851 - accuracy: 0.8382 - val_loss: 0.6096 - val_accuracy: 0.6111\n",
            "Epoch 17/100\n",
            "5/5 [==============================] - 0s 7ms/step - loss: 0.3678 - accuracy: 0.8824 - val_loss: 0.6062 - val_accuracy: 0.5556\n",
            "Epoch 18/100\n",
            "5/5 [==============================] - 0s 9ms/step - loss: 0.3626 - accuracy: 0.8676 - val_loss: 0.5998 - val_accuracy: 0.6111\n",
            "Epoch 19/100\n",
            "5/5 [==============================] - 0s 7ms/step - loss: 0.3449 - accuracy: 0.8971 - val_loss: 0.6058 - val_accuracy: 0.6111\n",
            "Epoch 20/100\n",
            "5/5 [==============================] - 0s 7ms/step - loss: 0.3319 - accuracy: 0.8824 - val_loss: 0.6010 - val_accuracy: 0.5556\n",
            "Epoch 21/100\n",
            "5/5 [==============================] - 0s 7ms/step - loss: 0.3150 - accuracy: 0.8971 - val_loss: 0.6177 - val_accuracy: 0.6111\n",
            "Epoch 22/100\n",
            "5/5 [==============================] - 0s 10ms/step - loss: 0.3069 - accuracy: 0.8971 - val_loss: 0.6347 - val_accuracy: 0.6667\n",
            "Epoch 23/100\n",
            "5/5 [==============================] - 0s 8ms/step - loss: 0.2919 - accuracy: 0.8971 - val_loss: 0.6075 - val_accuracy: 0.6111\n"
          ]
        }
      ]
    },
    {
      "cell_type": "code",
      "source": [
        "yhat_test_3 = model_3.predict(x_test).round()\n",
        "\n",
        "yhat_test_reshaped_3 = np.reshape(yhat_test_3, y_test.shape)\n",
        "print(cr(y_test, yhat_test_reshaped_3))\n",
        "print(cm(y_test, yhat_test_reshaped_3))"
      ],
      "metadata": {
        "colab": {
          "base_uri": "https://localhost:8080/"
        },
        "id": "9ufnK1RsZad4",
        "outputId": "7cf576c5-9bab-43eb-a72c-6af49fb649b1"
      },
      "execution_count": 67,
      "outputs": [
        {
          "output_type": "stream",
          "name": "stdout",
          "text": [
            "1/1 [==============================] - 0s 52ms/step\n",
            "              precision    recall  f1-score   support\n",
            "\n",
            "         0.0       0.70      0.64      0.67        11\n",
            "         1.0       0.50      0.57      0.53         7\n",
            "\n",
            "    accuracy                           0.61        18\n",
            "   macro avg       0.60      0.60      0.60        18\n",
            "weighted avg       0.62      0.61      0.61        18\n",
            "\n",
            "[[7 4]\n",
            " [3 4]]\n"
          ]
        }
      ]
    },
    {
      "cell_type": "code",
      "source": [
        "plt.scatter(y_test, yhat_test_reshaped_3)"
      ],
      "metadata": {
        "colab": {
          "base_uri": "https://localhost:8080/",
          "height": 447
        },
        "id": "-ExKEpDTZuPJ",
        "outputId": "c66437f0-4c16-44dc-8a30-886c148ae9b9"
      },
      "execution_count": 68,
      "outputs": [
        {
          "output_type": "execute_result",
          "data": {
            "text/plain": [
              "<matplotlib.collections.PathCollection at 0x7f00ed1a7820>"
            ]
          },
          "metadata": {},
          "execution_count": 68
        },
        {
          "output_type": "display_data",
          "data": {
            "text/plain": [
              "<Figure size 640x480 with 1 Axes>"
            ],
            "image/png": "[encoded data removed]"
          },
          "metadata": {}
        }
      ]
    },
    {
      "cell_type": "code",
      "source": [
        "plt.plot(results_3.history['loss'], label='train')\n",
        "plt.plot(results_3.history['val_loss'], label='test')\n",
        "plt.legend()"
      ],
      "metadata": {
        "colab": {
          "base_uri": "https://localhost:8080/",
          "height": 447
        },
        "id": "4DhvX-UQZ0Wn",
        "outputId": "c38e6ac4-298f-42aa-fbdd-08e52b5ea269"
      },
      "execution_count": 69,
      "outputs": [
        {
          "output_type": "execute_result",
          "data": {
            "text/plain": [
              "<matplotlib.legend.Legend at 0x7f00ed169ab0>"
            ]
          },
          "metadata": {},
          "execution_count": 69
        },
        {
          "output_type": "display_data",
          "data": {
            "text/plain": [
              "<Figure size 640x480 with 1 Axes>"
            ],
            "image/png": "[encoded data removed]"
          },
          "metadata": {}
        }
      ]
    },
    {
      "cell_type": "code",
      "source": [
        "model_4 = Sequential()\n",
        "model_4.add(Dense(64, activation='relu', input_shape=x_train.shape[1:]))\n",
        "model_4.add(Dense(32, activation='tanh'))\n",
        "model_4.add(Dense(16, activation='tanh'))\n",
        "model_4.add(Dense(8, activation='tanh'))\n",
        "model_4.add(Dense(1, activation='sigmoid'))\n",
        "\n",
        "model_4.compile(optimizer='adam', loss='binary_crossentropy', metrics='accuracy')\n",
        "\n",
        "results_4 = model_4.fit(x_train, y_train, epochs=100, validation_data=(x_test, y_test), callbacks=callBack)\n",
        "\n",
        "yhat_test_4 = model_4.predict(x_test).round()\n",
        "yhat_test_reshaped_4 = np.reshape(yhat_test_4, y_test.shape)\n",
        "print(cr(y_test, yhat_test_reshaped_4))\n",
        "print(cm(y_test, yhat_test_reshaped_4))\n",
        "\n",
        "plt.scatter(y_test, yhat_test_reshaped_4)"
      ],
      "metadata": {
        "colab": {
          "base_uri": "https://localhost:8080/",
          "height": 1000
        },
        "id": "jDPLFwN1aE1P",
        "outputId": "2f32aa97-45f3-47ff-c054-b954f877551f"
      },
      "execution_count": 77,
      "outputs": [
        {
          "output_type": "stream",
          "name": "stdout",
          "text": [
            "Epoch 1/100\n",
            "3/3 [==============================] - 1s 71ms/step - loss: 0.7154 - accuracy: 0.4118 - val_loss: 0.7092 - val_accuracy: 0.4444\n",
            "Epoch 2/100\n",
            "3/3 [==============================] - 0s 14ms/step - loss: 0.6998 - accuracy: 0.4559 - val_loss: 0.7080 - val_accuracy: 0.4444\n",
            "Epoch 3/100\n",
            "3/3 [==============================] - 0s 14ms/step - loss: 0.6943 - accuracy: 0.5147 - val_loss: 0.7126 - val_accuracy: 0.4444\n",
            "Epoch 4/100\n",
            "3/3 [==============================] - 0s 16ms/step - loss: 0.6883 - accuracy: 0.5147 - val_loss: 0.7126 - val_accuracy: 0.3333\n",
            "Epoch 5/100\n",
            "3/3 [==============================] - 0s 14ms/step - loss: 0.6834 - accuracy: 0.5294 - val_loss: 0.7083 - val_accuracy: 0.3889\n",
            "Epoch 6/100\n",
            "3/3 [==============================] - 0s 13ms/step - loss: 0.6784 - accuracy: 0.5441 - val_loss: 0.7008 - val_accuracy: 0.3889\n",
            "Epoch 7/100\n",
            "3/3 [==============================] - 0s 14ms/step - loss: 0.6708 - accuracy: 0.5735 - val_loss: 0.6899 - val_accuracy: 0.4444\n",
            "Epoch 8/100\n",
            "3/3 [==============================] - 0s 14ms/step - loss: 0.6617 - accuracy: 0.6324 - val_loss: 0.6785 - val_accuracy: 0.5000\n",
            "Epoch 9/100\n",
            "3/3 [==============================] - 0s 13ms/step - loss: 0.6557 - accuracy: 0.6176 - val_loss: 0.6680 - val_accuracy: 0.6667\n",
            "Epoch 10/100\n",
            "3/3 [==============================] - 0s 13ms/step - loss: 0.6484 - accuracy: 0.6618 - val_loss: 0.6620 - val_accuracy: 0.6667\n",
            "Epoch 11/100\n",
            "3/3 [==============================] - 0s 14ms/step - loss: 0.6428 - accuracy: 0.6912 - val_loss: 0.6584 - val_accuracy: 0.6111\n",
            "Epoch 12/100\n",
            "3/3 [==============================] - 0s 14ms/step - loss: 0.6365 - accuracy: 0.7206 - val_loss: 0.6557 - val_accuracy: 0.5556\n",
            "Epoch 13/100\n",
            "3/3 [==============================] - 0s 18ms/step - loss: 0.6311 - accuracy: 0.7500 - val_loss: 0.6537 - val_accuracy: 0.5556\n",
            "Epoch 14/100\n",
            "3/3 [==============================] - 0s 14ms/step - loss: 0.6264 - accuracy: 0.7500 - val_loss: 0.6514 - val_accuracy: 0.5556\n",
            "Epoch 15/100\n",
            "3/3 [==============================] - 0s 15ms/step - loss: 0.6213 - accuracy: 0.7206 - val_loss: 0.6483 - val_accuracy: 0.5556\n",
            "Epoch 16/100\n",
            "3/3 [==============================] - 0s 16ms/step - loss: 0.6155 - accuracy: 0.7206 - val_loss: 0.6457 - val_accuracy: 0.5556\n",
            "Epoch 17/100\n",
            "3/3 [==============================] - 0s 15ms/step - loss: 0.6096 - accuracy: 0.7353 - val_loss: 0.6430 - val_accuracy: 0.5556\n",
            "Epoch 18/100\n",
            "3/3 [==============================] - 0s 14ms/step - loss: 0.6039 - accuracy: 0.7353 - val_loss: 0.6408 - val_accuracy: 0.5556\n",
            "Epoch 19/100\n",
            "3/3 [==============================] - 0s 13ms/step - loss: 0.5981 - accuracy: 0.7353 - val_loss: 0.6387 - val_accuracy: 0.5556\n",
            "Epoch 20/100\n",
            "3/3 [==============================] - 0s 14ms/step - loss: 0.5947 - accuracy: 0.7353 - val_loss: 0.6377 - val_accuracy: 0.5556\n",
            "Epoch 21/100\n",
            "3/3 [==============================] - 0s 15ms/step - loss: 0.5882 - accuracy: 0.7059 - val_loss: 0.6372 - val_accuracy: 0.5556\n",
            "Epoch 22/100\n",
            "3/3 [==============================] - 0s 14ms/step - loss: 0.5833 - accuracy: 0.7206 - val_loss: 0.6370 - val_accuracy: 0.5556\n",
            "Epoch 23/100\n",
            "3/3 [==============================] - 0s 14ms/step - loss: 0.5775 - accuracy: 0.7353 - val_loss: 0.6360 - val_accuracy: 0.5556\n",
            "Epoch 24/100\n",
            "3/3 [==============================] - 0s 13ms/step - loss: 0.5721 - accuracy: 0.7353 - val_loss: 0.6335 - val_accuracy: 0.5556\n",
            "Epoch 25/100\n",
            "3/3 [==============================] - 0s 13ms/step - loss: 0.5654 - accuracy: 0.7500 - val_loss: 0.6293 - val_accuracy: 0.5556\n",
            "Epoch 26/100\n",
            "3/3 [==============================] - 0s 13ms/step - loss: 0.5578 - accuracy: 0.7647 - val_loss: 0.6240 - val_accuracy: 0.5556\n",
            "Epoch 27/100\n",
            "3/3 [==============================] - 0s 23ms/step - loss: 0.5491 - accuracy: 0.7647 - val_loss: 0.6194 - val_accuracy: 0.5556\n",
            "Epoch 28/100\n",
            "3/3 [==============================] - 0s 16ms/step - loss: 0.5417 - accuracy: 0.7647 - val_loss: 0.6144 - val_accuracy: 0.5556\n",
            "Epoch 29/100\n",
            "3/3 [==============================] - 0s 13ms/step - loss: 0.5330 - accuracy: 0.7794 - val_loss: 0.6079 - val_accuracy: 0.5556\n",
            "Epoch 30/100\n",
            "3/3 [==============================] - 0s 16ms/step - loss: 0.5250 - accuracy: 0.7647 - val_loss: 0.6010 - val_accuracy: 0.6667\n",
            "Epoch 31/100\n",
            "3/3 [==============================] - 0s 18ms/step - loss: 0.5177 - accuracy: 0.7941 - val_loss: 0.5921 - val_accuracy: 0.7222\n",
            "Epoch 32/100\n",
            "3/3 [==============================] - 0s 13ms/step - loss: 0.5119 - accuracy: 0.8088 - val_loss: 0.5852 - val_accuracy: 0.7222\n",
            "Epoch 33/100\n",
            "3/3 [==============================] - 0s 17ms/step - loss: 0.5040 - accuracy: 0.8088 - val_loss: 0.5829 - val_accuracy: 0.7222\n",
            "Epoch 34/100\n",
            "3/3 [==============================] - 0s 15ms/step - loss: 0.4980 - accuracy: 0.8382 - val_loss: 0.5813 - val_accuracy: 0.7222\n",
            "Epoch 35/100\n",
            "3/3 [==============================] - 0s 14ms/step - loss: 0.4929 - accuracy: 0.8382 - val_loss: 0.5814 - val_accuracy: 0.7222\n",
            "Epoch 36/100\n",
            "3/3 [==============================] - 0s 14ms/step - loss: 0.4863 - accuracy: 0.7941 - val_loss: 0.5824 - val_accuracy: 0.7222\n",
            "Epoch 37/100\n",
            "3/3 [==============================] - 0s 15ms/step - loss: 0.4818 - accuracy: 0.7794 - val_loss: 0.5834 - val_accuracy: 0.6667\n",
            "Epoch 38/100\n",
            "3/3 [==============================] - 0s 14ms/step - loss: 0.4767 - accuracy: 0.7794 - val_loss: 0.5857 - val_accuracy: 0.6111\n",
            "Epoch 39/100\n",
            "3/3 [==============================] - 0s 19ms/step - loss: 0.4692 - accuracy: 0.7941 - val_loss: 0.5893 - val_accuracy: 0.6111\n",
            "1/1 [==============================] - 0s 74ms/step\n",
            "              precision    recall  f1-score   support\n",
            "\n",
            "         0.0       0.88      0.64      0.74        11\n",
            "         1.0       0.60      0.86      0.71         7\n",
            "\n",
            "    accuracy                           0.72        18\n",
            "   macro avg       0.74      0.75      0.72        18\n",
            "weighted avg       0.77      0.72      0.72        18\n",
            "\n",
            "[[7 4]\n",
            " [1 6]]\n"
          ]
        },
        {
          "output_type": "execute_result",
          "data": {
            "text/plain": [
              "<matplotlib.collections.PathCollection at 0x7f00e9ad41f0>"
            ]
          },
          "metadata": {},
          "execution_count": 77
        },
        {
          "output_type": "display_data",
          "data": {
            "text/plain": [
              "<Figure size 640x480 with 1 Axes>"
            ],
            "image/png": "[encoded data removed]"
          },
          "metadata": {}
        }
      ]
    },
    {
      "cell_type": "code",
      "source": [
        "plt.plot(results_4.history['loss'], label='train')\n",
        "plt.plot(results_4.history['val_loss'], label='test')\n",
        "plt.legend()"
      ],
      "metadata": {
        "colab": {
          "base_uri": "https://localhost:8080/",
          "height": 447
        },
        "id": "nwzKR98obHNc",
        "outputId": "9ae70ac0-a3e9-49ae-d59c-8d5c911880b1"
      },
      "execution_count": 78,
      "outputs": [
        {
          "output_type": "execute_result",
          "data": {
            "text/plain": [
              "<matplotlib.legend.Legend at 0x7f00e9c62800>"
            ]
          },
          "metadata": {},
          "execution_count": 78
        },
        {
          "output_type": "display_data",
          "data": {
            "text/plain": [
              "<Figure size 640x480 with 1 Axes>"
            ],
            "image/png": "[encoded data removed]"
          },
          "metadata": {}
        }
      ]
    },
    {
      "cell_type": "code",
      "source": [
        "print(yhat_test_reshaped_4)\n",
        "print(y_test)"
      ],
      "metadata": {
        "colab": {
          "base_uri": "https://localhost:8080/"
        },
        "id": "IgwM-FDDbJTE",
        "outputId": "18ec2ae4-2016-4130-bb0f-491544d1d06b"
      },
      "execution_count": 79,
      "outputs": [
        {
          "output_type": "stream",
          "name": "stdout",
          "text": [
            "[1. 0. 0. 1. 1. 1. 0. 1. 1. 0. 1. 0. 0. 1. 1. 0. 1. 0.]\n",
            "[0. 0. 0. 1. 1. 1. 0. 0. 1. 0. 1. 0. 0. 0. 0. 1. 1. 0.]\n"
          ]
        }
      ]
    }
  ]
}